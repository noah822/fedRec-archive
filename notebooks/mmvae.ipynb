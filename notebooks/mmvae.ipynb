{
 "cells": [
  {
   "cell_type": "code",
   "execution_count": 8,
   "id": "16f6527c-3bd2-491e-8b34-bd31ba9e70f9",
   "metadata": {},
   "outputs": [],
   "source": [
    "from experiments.mmvae.mnist import (\n",
    "    mnist_audio_encoder, mnist_audio_decoder,\n",
    "    mnist_image_encoder, mnist_image_decoder,\n",
    ")\n",
    "from reconstruct.mmvae import DecoupledMMVAE\n",
    "\n",
    "import experiments.mmvae.mnist as mnist\n",
    "import torch\n",
    "import torch.nn as nn\n",
    "import torch.optim as optim\n",
    "device = 'cuda'"
   ]
  },
  {
   "cell_type": "code",
   "execution_count": 9,
   "id": "22e7eb1e-1bd7-45e8-8c7b-3d695c27e5f1",
   "metadata": {},
   "outputs": [
    {
     "data": {
      "text/plain": [
       "30000"
      ]
     },
     "execution_count": 9,
     "metadata": {},
     "output_type": "execute_result"
    }
   ],
   "source": [
    "dataloader_config = {\n",
    "    'batch_size' : 64,\n",
    "    'shuffle': True, \n",
    "    'pin_memory' : True,\n",
    "    'num_workers' : 2\n",
    "}\n",
    "dataloader = mnist.get_MNIST_dataloader(\n",
    "    audio_path = '/root/audio_mnist',\n",
    "    image_path = '/root/image_mnist',\n",
    "    csv_path = 'mmMNIST.csv',\n",
    "    trainloader_config = dataloader_config\n",
    ")\n",
    "audio, image, label = next(iter(dataloader))\n",
    "len(dataloader.dataset)"
   ]
  },
  {
   "cell_type": "code",
   "execution_count": 10,
   "id": "a9daf707-0a35-47da-aeeb-c03848542225",
   "metadata": {},
   "outputs": [
    {
     "name": "stderr",
     "output_type": "stream",
     "text": [
      "/root/miniconda3/lib/python3.8/site-packages/torch/nn/_reduction.py:42: UserWarning: size_average and reduce args will be deprecated, please use reduction='none' instead.\n",
      "  warnings.warn(warning.format(ret))\n"
     ]
    }
   ],
   "source": [
    "encoders = {\n",
    "    'audio' : mnist_audio_encoder,\n",
    "    'image' : mnist_image_encoder\n",
    "}\n",
    "\n",
    "decoders = {\n",
    "    'audio' : mnist_audio_decoder,\n",
    "    'image' : mnist_image_decoder\n",
    "}\n",
    "\n",
    "audio_criterion = nn.MSELoss(reduce=False, reduction='none')\n",
    "image_criterion = nn.BCELoss(reduce=False, reduction='none')\n",
    "\n",
    "def take_mean(x):\n",
    "    B = x.shape[0]\n",
    "    return x.view(B, -1).mean(dim=-1)\n",
    "\n",
    "# score_fns = {\n",
    "#     'audio' : lambda x_hat, x: take_mean(audio_criterion(x_hat, x)),\n",
    "#     'image' : lambda x_hat, x: take_mean(image_criterion(x_hat, x))\n",
    "# }\n",
    "\n",
    "score_fns = {\n",
    "    'audio' : nn.MSELoss(),\n",
    "    'image' : nn.BCELoss()\n",
    "}\n",
    "\n",
    "model = DecoupledMMVAE(\n",
    "    encoders=encoders,\n",
    "    decoders=decoders,\n",
    "    latent_dim=32,\n",
    "    score_fns=score_fns\n",
    ").to(device)"
   ]
  },
  {
   "cell_type": "code",
   "execution_count": 11,
   "id": "5270e241-216c-42f3-9377-31068e57d39b",
   "metadata": {},
   "outputs": [
    {
     "data": {
      "text/plain": [
       "<All keys matched successfully>"
      ]
     },
     "execution_count": 11,
     "metadata": {},
     "output_type": "execute_result"
    }
   ],
   "source": [
    "ckp = torch.load('./un-estimate.pt')\n",
    "model.load_state_dict(ckp['model'])"
   ]
  },
  {
   "cell_type": "code",
   "execution_count": null,
   "id": "e61830f7-12cb-480e-a536-f1cde3621d15",
   "metadata": {},
   "outputs": [
    {
     "data": {
      "application/vnd.jupyter.widget-view+json": {
       "model_id": "7599bf3f291e44abbf1dcd94e02c626a",
       "version_major": 2,
       "version_minor": 0
      },
      "text/plain": [
       "  0%|          | 0/100 [00:00<?, ?it/s]"
      ]
     },
     "metadata": {},
     "output_type": "display_data"
    },
    {
     "data": {
      "application/vnd.jupyter.widget-view+json": {
       "model_id": "4de086d12010498db72aae47a8e96df9",
       "version_major": 2,
       "version_minor": 0
      },
      "text/plain": [
       "  0%|          | 0/469 [00:00<?, ?it/s]"
      ]
     },
     "metadata": {},
     "output_type": "display_data"
    },
    {
     "data": {
      "application/vnd.jupyter.widget-view+json": {
       "model_id": "d8ec363a794240b9b82fed315d49afc9",
       "version_major": 2,
       "version_minor": 0
      },
      "text/plain": [
       "  0%|          | 0/469 [00:00<?, ?it/s]"
      ]
     },
     "metadata": {},
     "output_type": "display_data"
    },
    {
     "data": {
      "application/vnd.jupyter.widget-view+json": {
       "model_id": "0fc65644c514402a89ded7f6467eaf3a",
       "version_major": 2,
       "version_minor": 0
      },
      "text/plain": [
       "  0%|          | 0/469 [00:00<?, ?it/s]"
      ]
     },
     "metadata": {},
     "output_type": "display_data"
    }
   ],
   "source": [
    "from utils import vanilla_trainer\n",
    "from collections import OrderedDict\n",
    "\n",
    "optimizer = optim.Adam(model.parameters(), lr=1e-3, weight_decay=1e-5)\n",
    "penalty = {\n",
    "    'audio' : 1.0,\n",
    "    'image' : 1.0\n",
    "}\n",
    "\n",
    "def unpack_and_forward(model, inputs):\n",
    "    audio, image, _ = inputs\n",
    "    # image = image.reshape(image.shape[0], -1)\n",
    "    x = {\n",
    "        'audio' : audio.to(device),\n",
    "        'image' : image.to(device)\n",
    "    }\n",
    "    nelbo, kl, rec, verbose_output = model(x, alpha=0.001, rsample=5, mod_penalty=penalty, iw_cross_mod=False, verbose=True)\n",
    "    prompt = {\n",
    "        'nelbo' : nelbo.item(),\n",
    "        'kl' : kl.item(),\n",
    "        'rec' : rec.item()\n",
    "    }\n",
    "    for k, v in verbose_output.items():\n",
    "        prompt[k] = v.item()\n",
    "        \n",
    "    return nelbo, prompt\n",
    "\n",
    "vanilla_trainer(\n",
    "    model, dataloader,\n",
    "    optimizer, None,\n",
    "    100, \n",
    "    device,\n",
    "    unpack_and_forward,\n",
    "    do_autoencode=False,\n",
    "    custom_prompt=True,\n",
    "    use_tensorboard=True,\n",
    "    tensorboard_path='/root/tf-logs',\n",
    "    save_path='un-estimate.pt'\n",
    ")"
   ]
  },
  {
   "cell_type": "code",
   "execution_count": 17,
   "id": "a1485612-26b6-480a-a0a4-e8e8a0fc26b8",
   "metadata": {},
   "outputs": [
    {
     "data": {
      "image/png": "[encoded data removed]",
      "text/plain": [
       "<Figure size 432x288 with 1 Axes>"
      ]
     },
     "metadata": {
      "needs_background": "light"
     },
     "output_type": "display_data"
    }
   ],
   "source": [
    "import numpy as np\n",
    "import matplotlib.pyplot as plt\n",
    "\n",
    "def display_image(image, channel_first=True, cmap='viridis'):\n",
    "    if len(image.shape) == 3:\n",
    "        if channel_first:\n",
    "            image = np.rollaxis(image, 0, image.ndim)\n",
    "        if image.shape[-1] == 1:\n",
    "            image = image.squeeze()\n",
    "            \n",
    "    plt.imshow(image, cmap=cmap)\n",
    "\n",
    "audio, image , _ = dataloader.dataset[25000]\n",
    "display_image(image.cpu().numpy())\n"
   ]
  },
  {
   "cell_type": "code",
   "execution_count": 19,
   "id": "044c8f5a-fca7-43de-9743-6c9cd460d3a6",
   "metadata": {},
   "outputs": [
    {
     "data": {
      "image/png": "[encoded data removed]",
      "text/plain": [
       "<Figure size 432x288 with 1 Axes>"
      ]
     },
     "metadata": {
      "needs_background": "light"
     },
     "output_type": "display_data"
    }
   ],
   "source": [
    "from utils.visual import draw_histogram, display_mel_as_wave\n",
    "from reconstruct._utils.audio import save_mel_as_wav\n",
    "\n",
    "inputs = {\n",
    "    'image' : image.cuda().unsqueeze(0)\n",
    "    # 'audio' : audio.cuda().unsqueeze(0)\n",
    "}\n",
    "model.eval()\n",
    "rec = model.reconstruct(inputs)\n",
    "std = 17.8\n",
    "mean = -57\n",
    "\n",
    "def mel_denormalize(logmelspec):\n",
    "    logmel = (logmelspec * std) + mean\n",
    "    melspec = np.power(10, logmel / 10)\n",
    "    return melspec\n",
    "\n",
    "def tensor2np(t):\n",
    "    return t.detach().cpu().numpy()\n",
    "\n",
    "def get_ready(data):\n",
    "\n",
    "    return mel_denormalize(\n",
    "        tensor2np(data)\n",
    "    )\n",
    "\n",
    "save_mel_as_wav(get_ready(rec['audio'].squeeze()), save_path='./rec.wav')\n",
    "\n",
    "display_image(rec['image'].detach().cpu().squeeze(0).numpy())"
   ]
  },
  {
   "cell_type": "code",
   "execution_count": null,
   "id": "7bfbd30d-fcac-4c63-a274-83a19bc59715",
   "metadata": {},
   "outputs": [],
   "source": []
  }
 ],
 "metadata": {
  "kernelspec": {
   "display_name": "Python 3 (ipykernel)",
   "language": "python",
   "name": "python3"
  },
  "language_info": {
   "codemirror_mode": {
    "name": "ipython",
    "version": 3
   },
   "file_extension": ".py",
   "mimetype": "text/x-python",
   "name": "python",
   "nbconvert_exporter": "python",
   "pygments_lexer": "ipython3",
   "version": "3.8.10"
  }
 },
 "nbformat": 4,
 "nbformat_minor": 5
}
