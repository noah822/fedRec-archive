{
 "cells": [
  {
   "cell_type": "code",
   "execution_count": 1,
   "id": "460b38d1-aab5-463a-8fa7-03831e783cea",
   "metadata": {},
   "outputs": [
    {
     "name": "stdout",
     "output_type": "stream",
     "text": [
      "/root/fedRec\n"
     ]
    }
   ],
   "source": [
    "%cd ~/fedRec"
   ]
  },
  {
   "cell_type": "code",
   "execution_count": 5,
   "id": "06e79745-af12-4e4e-81c6-1fc07bf87f80",
   "metadata": {},
   "outputs": [],
   "source": [
    "import pandas as pd\n",
    "import os\n",
    "\n",
    "\n",
    "full_csv_folder = './iid_clients/train'\n",
    "NUM_CLIENT = 10\n",
    "for i in range(NUM_CLIENT):\n",
    "    df = pd.read_csv(\n",
    "        os.path.join(full_csv_folder, f'{i}.csv'), header=None\n",
    "    )\n",
    "    audio_column = df.iloc[:,0]\n",
    "    image_column = df.iloc[:,1]\n",
    "    audio_column.to_csv(\n",
    "        os.path.join(full_csv_folder, f'{i}_audio.csv'),\n",
    "        index=False,\n",
    "        header=False\n",
    "    )\n",
    "    image_column.to_csv(\n",
    "        os.path.join(full_csv_folder, f'{i}_image.csv'),\n",
    "        index=False,\n",
    "        header=False\n",
    "    )\n",
    "    \n",
    "    "
   ]
  },
  {
   "cell_type": "code",
   "execution_count": 1,
   "id": "45f6e2ac-608e-468f-9e55-52c5f0630123",
   "metadata": {},
   "outputs": [],
   "source": [
    "audio_mnist_path = '/root/autodl-tmp/audio_mnist'\n",
    "image_mnist_path = '/root/autodl-tmp/image_mnist'"
   ]
  },
  {
   "cell_type": "code",
   "execution_count": 2,
   "id": "e5f2f9f2-bf3e-4f68-8755-827a38d37203",
   "metadata": {},
   "outputs": [],
   "source": [
    "from fed.utils.sampling import dirichelet_sampling as non_iid_sampling\n",
    "from fed.utils.sampling import iid_sampling\n",
    "\n",
    "from experiments.mmvae.mnist.dataset import _extract_label\n",
    "import pandas as pd\n",
    "from pathlib import Path\n",
    "\n",
    "client_csv_path = '/root/autodl-tmp/csv/mmMNIST_client.csv'\n",
    "def get_criterion(csv_path):\n",
    "    res = []\n",
    "    df = pd.read_csv(csv_path).to_numpy()\n",
    "    for filename, _ in df:\n",
    "        res.append(_extract_label(filename))\n",
    "    return res\n",
    "    \n",
    "\n",
    "sample_crit = get_criterion(client_csv_path)"
   ]
  },
  {
   "cell_type": "code",
   "execution_count": 4,
   "id": "1328dd47-5333-4323-8793-4433d9b7c351",
   "metadata": {},
   "outputs": [],
   "source": [
    "iid_sampling(\n",
    "    client_csv_path,\n",
    "    sample_crit,\n",
    "    num_client=10,\n",
    "    index_col=False,\n",
    "    seed=42,\n",
    "    train_test_split_ratio=0.75,\n",
    "    dst_path='./iid_clients'\n",
    ")"
   ]
  },
  {
   "cell_type": "code",
   "execution_count": 5,
   "id": "7e4572b4-6b21-4fb7-a71e-25c7b32b99fe",
   "metadata": {
    "tags": []
   },
   "outputs": [],
   "source": [
    "clients_crit = []\n",
    "for i in range(10):\n",
    "    csv_path = f'./iid_clients/train/{i}.csv'\n",
    "    clients_crit.append(get_criterion(csv_path))\n"
   ]
  },
  {
   "cell_type": "code",
   "execution_count": 6,
   "id": "f3435521",
   "metadata": {},
   "outputs": [
    {
     "data": {
      "image/png": "[encoded data removed]",
      "text/plain": [
       "<Figure size 432x288 with 10 Axes>"
      ]
     },
     "metadata": {
      "needs_background": "light"
     },
     "output_type": "display_data"
    }
   ],
   "source": [
    "from utils.visual import draw_bin_grid\n",
    "draw_bin_grid(clients_crit, (2, 5), title_prefix='client')"
   ]
  },
  {
   "cell_type": "code",
   "execution_count": 7,
   "id": "ef9c7073-d568-4657-9459-11faf77083cd",
   "metadata": {},
   "outputs": [],
   "source": [
    "# import os\n",
    "# import random\n",
    "# import numpy as np\n",
    "# import pandas as pd\n",
    "\n",
    "# def _recursive_traverse(root_path):\n",
    "\n",
    "#   def _impl(path, res):\n",
    "#     if path.is_file():\n",
    "#       res.append(path.path)\n",
    "#       return\n",
    "#     elif path.is_dir():\n",
    "#       for obj in os.scandir(path):\n",
    "#         _impl(obj, res)\n",
    "#     return\n",
    "\n",
    "#   res = []\n",
    "#   for obj in os.scandir(root_path):\n",
    "#     _impl(obj, res)\n",
    "#   return res\n",
    "\n",
    "# def _extract_label(file_iterator):\n",
    "#   res = [[] for _ in range(10)]\n",
    "#   for file in file_iterator:\n",
    "#     label = int(os.path.basename(file).split('_')[0])\n",
    "#     res[label].append(file)\n",
    "#   return res\n",
    "\n",
    "\n",
    "# def random_pairing(audio_path, image_path, seed=272, save_path='./mmMNIST.csv'):\n",
    "#   pipeline = lambda x: _extract_label(_recursive_traverse(x))\n",
    "#   audio_files = pipeline(audio_path)\n",
    "#   image_files = pipeline(image_path)\n",
    "\n",
    "#   random.seed(seed)\n",
    "#   for audio, image in zip(audio_files, image_files):\n",
    "#     random.shuffle(audio)\n",
    "#     random.shuffle(image)\n",
    "  \n",
    "#   client_audio = []; client_image = []\n",
    "#   server_audio = []; server_image = []\n",
    "#   for audio, image in zip(audio_files, image_files):\n",
    "#         client_audio.append(audio[:2200])\n",
    "#         client_image.append(image[:2200])\n",
    "#         server_audio.append(audio[2200:])\n",
    "#         server_image.append(image[2200:])\n",
    "\n",
    "#   client_audio = np.array(client_audio).reshape(1, -1)\n",
    "#   client_image = np.array(client_image).reshape(1, -1)\n",
    "\n",
    "#   server_audio = np.array(server_audio).reshape(1, -1)\n",
    "#   server_image = np.array(server_image).reshape(1, -1)\n",
    "\n",
    "#   client_df = pd.DataFrame(\n",
    "#       np.concatenate([client_audio, client_image], axis=0).T,\n",
    "#       columns=['audio', 'image']\n",
    "#   )\n",
    "#   client_df.to_csv('./mmMNIST_client.csv', index=False)\n",
    "\n",
    "#   server_df = pd.DataFrame(\n",
    "#       np.concatenate([server_audio, server_image], axis=0).T,\n",
    "#       columns=['audio', 'image']\n",
    "#   )\n",
    "#   server_df.to_csv('./mmMNIST_server.csv', index=False)\n",
    "\n",
    "\n",
    "# random_pairing(audio_mnist_path, image_mnist_path)"
   ]
  },
  {
   "cell_type": "code",
   "execution_count": null,
   "id": "34ff0271-1bf4-4235-8d93-936335cc0630",
   "metadata": {},
   "outputs": [],
   "source": []
  }
 ],
 "metadata": {
  "kernelspec": {
   "display_name": "Python 3 (ipykernel)",
   "language": "python",
   "name": "python3"
  },
  "language_info": {
   "codemirror_mode": {
    "name": "ipython",
    "version": 3
   },
   "file_extension": ".py",
   "mimetype": "text/x-python",
   "name": "python",
   "nbconvert_exporter": "python",
   "pygments_lexer": "ipython3",
   "version": "3.8.10"
  }
 },
 "nbformat": 4,
 "nbformat_minor": 5
}
