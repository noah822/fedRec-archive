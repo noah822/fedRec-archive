{
 "cells": [
  {
   "cell_type": "code",
   "execution_count": 1,
   "id": "b298372f-6427-46c5-af7d-f5d4d35bd532",
   "metadata": {},
   "outputs": [
    {
     "name": "stdout",
     "output_type": "stream",
     "text": [
      "/root/fedRec\n"
     ]
    }
   ],
   "source": [
    "%cd ~/fedRec"
   ]
  },
  {
   "cell_type": "code",
   "execution_count": 2,
   "id": "917de195-01fc-46d3-a9b5-4d3f5af320b8",
   "metadata": {},
   "outputs": [],
   "source": [
    "import pandas as pd\n",
    "csv_path = './clients/train/0.csv'\n",
    "df = pd.read_csv(csv_path)\n",
    "image_df = df.iloc[:,0]\n",
    "image_df.to_csv('./clients/train/0_audio.csv', index=False)"
   ]
  },
  {
   "cell_type": "code",
   "execution_count": 4,
   "id": "ef45d2b2-b089-4f98-8d2e-a2e3dd4e8502",
   "metadata": {},
   "outputs": [],
   "source": [
    "from experiments.mmvae.mnist.dataset import (\n",
    "    imageMNIST, audioMNIST,\n",
    "    mmMNIST\n",
    ")\n",
    "from experiments.ssl.dataset import get_mnist_transform\n",
    "import torchvision.transforms as T\n",
    "\n",
    "\n",
    "transform, _ = get_mnist_transform()\n",
    "transform = T.Compose(transform)\n",
    "dataset = imageMNIST(\n",
    "    csv_path='./clients/train/4_image.csv',\n",
    "    augmentation=transform\n",
    ")"
   ]
  },
  {
   "cell_type": "code",
   "execution_count": 6,
   "id": "d1ac5f07-55fd-423e-abd3-a14ef9976630",
   "metadata": {},
   "outputs": [],
   "source": [
    "img, aug = dataset[5]\n",
    "img = img.view(28, 28)\n",
    "aug = aug.view(28, 28)"
   ]
  },
  {
   "cell_type": "code",
   "execution_count": 8,
   "id": "c841c867-5736-430d-b048-3cf453a76484",
   "metadata": {},
   "outputs": [
    {
     "data": {
      "text/plain": [
       "tensor([[-1.0000, -1.0000, -1.0000, -1.0000, -1.0000, -1.0000, -1.0000, -1.0000,\n",
       "         -1.0000, -1.0000, -1.0000, -1.0000, -1.0000, -1.0000, -0.9988, -0.9988,\n",
       "         -1.0000, -1.0000, -1.0000, -1.0000, -1.0000, -1.0000, -1.0000, -1.0000,\n",
       "         -1.0000, -1.0000, -1.0000, -1.0000],\n",
       "        [-1.0000, -1.0000, -1.0000, -1.0000, -1.0000, -1.0000, -1.0000, -1.0000,\n",
       "         -1.0000, -1.0000, -1.0000, -1.0000, -1.0000, -0.9433, -0.9860, -0.9915,\n",
       "         -0.9188, -0.9188, -0.9926, -1.0000, -1.0000, -1.0000, -1.0000, -1.0000,\n",
       "         -1.0000, -1.0000, -1.0000, -1.0000],\n",
       "        [-1.0000, -1.0000, -1.0000, -1.0000, -1.0000, -1.0000, -1.0000, -1.0000,\n",
       "         -1.0000, -1.0000, -1.0000, -0.8321, -0.8680, -0.6028, -0.6028, -0.0233,\n",
       "         -0.5738, -0.6542, -0.9773, -1.0000, -1.0000, -1.0000, -1.0000, -1.0000,\n",
       "         -1.0000, -1.0000, -1.0000, -1.0000],\n",
       "        [-1.0000, -1.0000, -1.0000, -1.0000, -1.0000, -1.0000, -1.0000, -1.0000,\n",
       "         -1.0000, -1.0000, -0.7627, -0.7627,  0.1754,  0.6314,  0.4055,  0.6689,\n",
       "          0.6689,  0.5629, -0.2976, -0.9589, -1.0000, -1.0000, -1.0000, -1.0000,\n",
       "         -1.0000, -1.0000, -1.0000, -1.0000],\n",
       "        [-1.0000, -1.0000, -1.0000, -1.0000, -1.0000, -1.0000, -1.0000, -1.0000,\n",
       "         -0.7551, -0.7529,  0.7294,  0.6608,  0.7390,  0.7390,  0.5983,  0.5666,\n",
       "          0.8564,  0.3557, -0.3169, -0.7451, -0.9835, -1.0000, -1.0000, -1.0000,\n",
       "         -1.0000, -1.0000, -1.0000, -1.0000],\n",
       "        [-1.0000, -1.0000, -1.0000, -1.0000, -1.0000, -1.0000, -1.0000, -0.8081,\n",
       "         -0.7551,  0.7294,  0.8637,  0.8671,  0.2212,  0.5221, -0.1531,  0.5666,\n",
       "         -0.4251,  0.2499, -0.5046, -1.0000, -1.0000, -1.0000, -1.0000, -1.0000,\n",
       "         -1.0000, -1.0000, -1.0000, -1.0000],\n",
       "        [-1.0000, -1.0000, -1.0000, -1.0000, -1.0000, -0.8898, -0.8716, -0.1010,\n",
       "          0.3435,  0.8925,  0.8637,  0.1355,  0.2212, -0.8327, -0.9044, -0.8790,\n",
       "         -0.8464, -0.5692, -1.0000, -1.0000, -1.0000, -1.0000, -1.0000, -1.0000,\n",
       "         -1.0000, -1.0000, -1.0000, -1.0000],\n",
       "        [-1.0000, -1.0000, -1.0000, -1.0000, -0.9961, -0.9558, -0.2284, -0.1010,\n",
       "          0.7839,  0.5859,  0.2506, -1.0000, -0.9777, -0.9761, -0.9044, -1.0000,\n",
       "         -1.0000, -1.0000, -1.0000, -1.0000, -1.0000, -1.0000, -1.0000, -1.0000,\n",
       "         -1.0000, -1.0000, -1.0000, -1.0000],\n",
       "        [-1.0000, -1.0000, -1.0000, -0.9996, -0.9730, -0.6903,  0.3202,  0.5660,\n",
       "          0.8785,  0.5859, -0.7835, -1.0000, -1.0000, -1.0000, -1.0000, -1.0000,\n",
       "         -1.0000, -1.0000, -1.0000, -1.0000, -1.0000, -1.0000, -1.0000, -1.0000,\n",
       "         -1.0000, -1.0000, -1.0000, -1.0000],\n",
       "        [-1.0000, -1.0000, -1.0000, -1.0000, -0.9975, -0.1468,  0.9287,  0.9087,\n",
       "          0.5052,  0.5052, -0.8741, -0.9691, -1.0000, -1.0000, -1.0000, -1.0000,\n",
       "         -1.0000, -1.0000, -1.0000, -1.0000, -1.0000, -1.0000, -1.0000, -1.0000,\n",
       "         -1.0000, -1.0000, -1.0000, -1.0000],\n",
       "        [-1.0000, -1.0000, -1.0000, -0.9567, -0.7219, -0.0568,  0.5814,  0.8485,\n",
       "         -0.5350, -0.7553, -1.0000, -1.0000, -1.0000, -1.0000, -1.0000, -1.0000,\n",
       "         -1.0000, -1.0000, -1.0000, -1.0000, -1.0000, -1.0000, -1.0000, -1.0000,\n",
       "         -1.0000, -1.0000, -1.0000, -1.0000],\n",
       "        [-1.0000, -1.0000, -1.0000, -0.8862, -0.5531,  0.7983,  0.9384,  0.0809,\n",
       "          0.0809, -0.8969, -0.9870, -1.0000, -1.0000, -1.0000, -1.0000, -1.0000,\n",
       "         -1.0000, -1.0000, -0.9769, -0.8616, -0.9865, -1.0000, -1.0000, -1.0000,\n",
       "         -1.0000, -1.0000, -1.0000, -1.0000],\n",
       "        [-1.0000, -1.0000, -0.9940, -0.8862,  0.1887,  0.1887,  0.9294, -0.2617,\n",
       "         -0.6316, -1.0000, -1.0000, -1.0000, -1.0000, -1.0000, -1.0000, -1.0000,\n",
       "         -0.6824, -0.6897, -0.1640, -0.8616, -0.9056, -1.0000, -1.0000, -1.0000,\n",
       "         -1.0000, -1.0000, -1.0000, -1.0000],\n",
       "        [-1.0000, -1.0000, -0.9975, -0.9295,  0.1986,  0.8639,  0.4762,  0.4762,\n",
       "         -0.8989, -1.0000, -1.0000, -1.0000, -1.0000, -1.0000, -1.0000, -0.6824,\n",
       "         -0.0108, -0.0282,  0.8380,  0.7851, -0.7033, -0.9596, -1.0000, -1.0000,\n",
       "         -1.0000, -1.0000, -1.0000, -1.0000],\n",
       "        [-1.0000, -1.0000, -0.9975, -0.6029, -0.2569,  0.7164,  0.5927, -0.2555,\n",
       "         -0.9973, -1.0000, -1.0000, -1.0000, -1.0000, -0.6807, -0.6807, -0.0059,\n",
       "         -0.0108,  0.8422,  0.8380,  0.2054, -0.9567, -0.9567, -1.0000, -1.0000,\n",
       "         -1.0000, -1.0000, -1.0000, -1.0000],\n",
       "        [-1.0000, -1.0000, -1.0000, -0.9340, -0.2569,  0.9181,  0.9181,  0.3520,\n",
       "         -0.0250, -0.9809, -0.8419, -0.9784, -0.4083, -0.6085, -0.0059,  0.8503,\n",
       "          0.8422,  0.9438,  0.9438,  0.0214, -0.5234, -1.0000, -1.0000, -1.0000,\n",
       "         -1.0000, -1.0000, -1.0000, -1.0000],\n",
       "        [-1.0000, -1.0000, -1.0000, -1.0000, -0.9066, -0.0819,  0.8759,  0.7119,\n",
       "         -0.0250,  0.5619,  0.3643, -0.1496,  0.5783,  0.1615,  0.8668,  0.8503,\n",
       "          0.9718,  0.9290,  0.6694, -1.0000, -1.0000, -1.0000, -1.0000, -1.0000,\n",
       "         -1.0000, -1.0000, -1.0000, -1.0000],\n",
       "        [-1.0000, -1.0000, -1.0000, -1.0000, -0.9066, -0.0819, -0.0819,  0.8455,\n",
       "          0.8920,  0.8852,  0.3643,  0.9752,  0.9670,  0.9263,  0.3534,  0.6961,\n",
       "          0.9659,  0.9659,  0.7196,  0.0961, -1.0000, -1.0000, -1.0000, -1.0000,\n",
       "         -1.0000, -1.0000, -1.0000, -1.0000],\n",
       "        [-1.0000, -1.0000, -1.0000, -1.0000, -1.0000, -0.9066, -0.1775,  0.3708,\n",
       "          0.3708,  0.5624,  0.8650,  0.9679,  0.9670,  0.2451,  0.2451,  0.0334,\n",
       "          0.7822,  0.9244, -0.0881, -0.0881, -1.0000, -1.0000, -1.0000, -0.9467,\n",
       "         -0.9894, -0.9259, -1.0000, -1.0000],\n",
       "        [-1.0000, -1.0000, -1.0000, -1.0000, -1.0000, -1.0000, -0.9619, -0.4831,\n",
       "         -0.3944,  0.5624,  0.1958, -0.5934, -0.2625, -0.8284, -0.3748,  0.2167,\n",
       "          0.2167,  0.8929, -0.2788, -0.7085, -1.0000, -1.0000, -0.9941, -0.9528,\n",
       "         -0.6268, -0.5432, -0.9271, -1.0000],\n",
       "        [-1.0000, -1.0000, -1.0000, -1.0000, -1.0000, -1.0000, -1.0000, -1.0000,\n",
       "         -0.9871, -0.8951, -0.9054, -0.5934, -1.0000, -1.0000, -0.9408,  0.1631,\n",
       "          0.7311,  0.3125, -0.2788, -0.8616, -1.0000, -1.0000, -0.9588, -0.6697,\n",
       "          0.2988,  0.3391, -0.2852, -0.8726],\n",
       "        [-1.0000, -1.0000, -1.0000, -1.0000, -1.0000, -1.0000, -1.0000, -1.0000,\n",
       "         -1.0000, -0.9920, -1.0000, -1.0000, -1.0000, -1.0000, -0.5857,  0.2327,\n",
       "          0.6978,  0.2932, -0.3950, -1.0000, -1.0000, -1.0000, -1.0000, -0.4045,\n",
       "          0.8985,  0.9204, -0.2273, -0.2273],\n",
       "        [-1.0000, -1.0000, -1.0000, -1.0000, -1.0000, -1.0000, -1.0000, -1.0000,\n",
       "         -1.0000, -1.0000, -1.0000, -1.0000, -1.0000, -1.0000, -0.6630,  0.2327,\n",
       "          0.8047,  0.2932, -0.5272, -0.9969, -1.0000, -0.9202, -0.7044,  0.3190,\n",
       "          0.3190,  0.9765, -1.0000, -1.0000],\n",
       "        [-1.0000, -1.0000, -1.0000, -1.0000, -1.0000, -1.0000, -1.0000, -1.0000,\n",
       "         -1.0000, -1.0000, -1.0000, -1.0000, -1.0000, -0.9694,  0.0181,  0.0181,\n",
       "          0.8787,  0.4350, -0.8458, -0.9969, -1.0000, -0.3728, -0.2649,  0.8801,\n",
       "          0.9765, -1.0000, -1.0000, -1.0000],\n",
       "        [-1.0000, -1.0000, -1.0000, -1.0000, -1.0000, -1.0000, -1.0000, -1.0000,\n",
       "         -1.0000, -1.0000, -1.0000, -1.0000, -1.0000, -0.9752, -0.7925,  0.8349,\n",
       "          0.3919,  0.3919, -0.7526, -0.9621, -0.5304, -0.3728,  0.7473, -1.0000,\n",
       "         -1.0000, -1.0000, -1.0000, -1.0000],\n",
       "        [-1.0000, -1.0000, -1.0000, -1.0000, -1.0000, -1.0000, -1.0000, -1.0000,\n",
       "         -1.0000, -1.0000, -1.0000, -1.0000, -1.0000, -0.8981, -0.8981,  0.2821,\n",
       "          0.9465, -0.1439, -0.7453, -0.7636, -0.3695,  0.2522, -1.0000, -1.0000,\n",
       "         -1.0000, -1.0000, -1.0000, -1.0000],\n",
       "        [-1.0000, -1.0000, -1.0000, -1.0000, -1.0000, -1.0000, -1.0000, -1.0000,\n",
       "         -1.0000, -1.0000, -1.0000, -1.0000, -1.0000, -0.9708, -0.6840,  0.7595,\n",
       "          0.7595,  0.9765, -0.2185, -0.4695, -0.3695, -1.0000, -1.0000, -1.0000,\n",
       "         -1.0000, -1.0000, -1.0000, -1.0000],\n",
       "        [-1.0000, -1.0000, -1.0000, -1.0000, -1.0000, -1.0000, -1.0000, -1.0000,\n",
       "         -1.0000, -1.0000, -1.0000, -1.0000, -1.0000, -1.0000, -0.8565, -0.2788,\n",
       "          0.9765,  0.9765,  0.1118, -1.0000, -1.0000, -1.0000, -1.0000, -1.0000,\n",
       "         -1.0000, -1.0000, -1.0000, -1.0000]])"
      ]
     },
     "execution_count": 8,
     "metadata": {},
     "output_type": "execute_result"
    }
   ],
   "source": [
    "aug"
   ]
  },
  {
   "cell_type": "code",
   "execution_count": 9,
   "id": "3cf5d9b9-f462-4b5f-8f9e-7f21c2f978df",
   "metadata": {},
   "outputs": [
    {
     "data": {
      "image/png": "[encoded data removed]",
      "text/plain": [
       "<Figure size 432x288 with 1 Axes>"
      ]
     },
     "metadata": {
      "needs_background": "light"
     },
     "output_type": "display_data"
    }
   ],
   "source": [
    "from utils.visual import display_image\n",
    "display_image(img.numpy(), cmap='gray')"
   ]
  },
  {
   "cell_type": "code",
   "execution_count": 10,
   "id": "d78772b3-5108-4fde-8442-bb529cd6af6c",
   "metadata": {},
   "outputs": [
    {
     "data": {
      "image/png": "[encoded data removed]",
      "text/plain": [
       "<Figure size 432x288 with 1 Axes>"
      ]
     },
     "metadata": {
      "needs_background": "light"
     },
     "output_type": "display_data"
    }
   ],
   "source": [
    "display_image(aug.numpy(), cmap='gray')"
   ]
  },
  {
   "cell_type": "code",
   "execution_count": 5,
   "id": "55968cd0-9f80-48fc-8972-ab480bcd11e3",
   "metadata": {},
   "outputs": [],
   "source": [
    "audio_dataset = audioMNIST(\n",
    "    csv_path='./clients/train/0_audio.csv',\n",
    "    augment_folder='/root/autodl-tmp/audio_mnist_augmented',\n",
    "    num_view=2\n",
    ")"
   ]
  },
  {
   "cell_type": "code",
   "execution_count": 6,
   "id": "2144c2a3-a0a5-4bc0-945f-b5044a30d771",
   "metadata": {},
   "outputs": [],
   "source": [
    "wave, aug_wave, _ = audio_dataset[0]"
   ]
  },
  {
   "cell_type": "code",
   "execution_count": 8,
   "id": "6516a645-504a-4e40-8338-a733e8b01761",
   "metadata": {},
   "outputs": [
    {
     "data": {
      "text/plain": [
       "(1, 128, 32)"
      ]
     },
     "execution_count": 8,
     "metadata": {},
     "output_type": "execute_result"
    }
   ],
   "source": [
    "aug_wave.shape"
   ]
  },
  {
   "cell_type": "code",
   "execution_count": 11,
   "id": "4cd4ba15-d16b-4907-824f-4dc7de07efc9",
   "metadata": {},
   "outputs": [],
   "source": [
    "from reconstruct._utils.audio import save_logmel_as_wav\n",
    "mean = -57\n",
    "std = 17.8\n",
    "\n",
    "def get_ready(t):\n",
    "    t = (t * std) + mean\n",
    "    return t[0]\n",
    "\n",
    "save_logmel_as_wav(get_ready(wave), 'orig.wav')\n",
    "save_logmel_as_wav(get_ready(aug_wave), 'aug.wav')\n",
    "\n",
    "\n",
    "    "
   ]
  },
  {
   "cell_type": "code",
   "execution_count": null,
   "id": "02854c76-c5d7-4e4f-b3a7-0a089814a67c",
   "metadata": {},
   "outputs": [],
   "source": []
  }
 ],
 "metadata": {
  "kernelspec": {
   "display_name": "Python 3 (ipykernel)",
   "language": "python",
   "name": "python3"
  },
  "language_info": {
   "codemirror_mode": {
    "name": "ipython",
    "version": 3
   },
   "file_extension": ".py",
   "mimetype": "text/x-python",
   "name": "python",
   "nbconvert_exporter": "python",
   "pygments_lexer": "ipython3",
   "version": "3.8.10"
  }
 },
 "nbformat": 4,
 "nbformat_minor": 5
}
